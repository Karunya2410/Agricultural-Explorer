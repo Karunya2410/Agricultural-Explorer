{
 "cells": [
  {
   "cell_type": "code",
   "execution_count": 1,
   "metadata": {},
   "outputs": [],
   "source": [
    "#Data cleaning\n",
    "\n",
    "import pandas as pd\n",
    "import matplotlib.pyplot as plt\n",
    "import seaborn as sns\n",
    "\n",
    "# Load dataset\n",
    "df = pd.read_csv(r\"C:\\Users\\karunya\\Documents\\Guvi projects\\Agricultural Analysis Project\\Agri_explorer.csv\")\n",
    "\n",
    "# Ensure column names are correct\n",
    "df.columns = df.columns.str.strip().str.lower()  # Standardize column names\n",
    "\n",
    "df.columns = (\n",
    "    df.columns.str.lower()  # Convert to lowercase\n",
    "    .str.replace(r\"[()]\", \"\", regex=True)  # Remove parentheses\n",
    "    .str.replace(r\"\\s+\", \"_\", regex=True)  # Replace spaces with underscores\n",
    ")"
   ]
  },
  {
   "cell_type": "code",
   "execution_count": null,
   "metadata": {},
   "outputs": [],
   "source": [
    "print(df.columns)"
   ]
  },
  {
   "cell_type": "code",
   "execution_count": 3,
   "metadata": {},
   "outputs": [],
   "source": [
    "# Additional renaming for crop-related columns\n",
    "df.columns = df.columns.str.replace(\"_area_1000_ha\", \"_area\", regex=True)\n",
    "df.columns = df.columns.str.replace(\"_production_1000_tons\", \"_production\", regex=True)\n",
    "df.columns = df.columns.str.replace(\"_yield_kg_per_ha\", \"_yield\", regex=True)"
   ]
  },
  {
   "cell_type": "code",
   "execution_count": 5,
   "metadata": {},
   "outputs": [
    {
     "name": "stdout",
     "output_type": "stream",
     "text": [
      "Index(['dist_code', 'year', 'state_code', 'state_name', 'dist_name',\n",
      "       'rice_area', 'rice_production', 'rice_yield', 'wheat_area',\n",
      "       'wheat_production', 'wheat_yield', 'kharif_sorghum_area',\n",
      "       'kharif_sorghum_production', 'kharif_sorghum_yield',\n",
      "       'rabi_sorghum_area', 'rabi_sorghum_production', 'rabi_sorghum_yield',\n",
      "       'sorghum_area', 'sorghum_production', 'sorghum_yield',\n",
      "       'pearl_millet_area', 'pearl_millet_production', 'pearl_millet_yield',\n",
      "       'maize_area', 'maize_production', 'maize_yield', 'finger_millet_area',\n",
      "       'finger_millet_production', 'finger_millet_yield', 'barley_area',\n",
      "       'barley_production', 'barley_yield', 'chickpea_area',\n",
      "       'chickpea_production', 'chickpea_yield', 'pigeonpea_area',\n",
      "       'pigeonpea_production', 'pigeonpea_yield', 'minor_pulses_area',\n",
      "       'minor_pulses_production', 'minor_pulses_yield', 'groundnut_area',\n",
      "       'groundnut_production', 'groundnut_yield', 'sesamum_area',\n",
      "       'sesamum_production', 'sesamum_yield', 'rapeseed_and_mustard_area',\n",
      "       'rapeseed_and_mustard_production', 'rapeseed_and_mustard_yield',\n",
      "       'safflower_area', 'safflower_production', 'safflower_yield',\n",
      "       'castor_area', 'castor_production', 'castor_yield', 'linseed_area',\n",
      "       'linseed_production', 'linseed_yield', 'sunflower_area',\n",
      "       'sunflower_production', 'sunflower_yield', 'soyabean_area',\n",
      "       'soyabean_production', 'soyabean_yield', 'oilseeds_area',\n",
      "       'oilseeds_production', 'oilseeds_yield', 'sugarcane_area',\n",
      "       'sugarcane_production', 'sugarcane_yield', 'cotton_area',\n",
      "       'cotton_production', 'cotton_yield', 'fruits_area', 'vegetables_area',\n",
      "       'fruits_and_vegetables_area', 'potatoes_area', 'onion_area',\n",
      "       'fodder_area'],\n",
      "      dtype='object')\n"
     ]
    }
   ],
   "source": [
    "print(df.columns)"
   ]
  },
  {
   "cell_type": "code",
   "execution_count": 15,
   "metadata": {},
   "outputs": [
    {
     "name": "stdout",
     "output_type": "stream",
     "text": [
      "Cleaned CSV file saved as Cleaned_Agri_Data.csv\n"
     ]
    }
   ],
   "source": [
    "import numpy as np\n",
    "\n",
    "# Remove duplicate rows\n",
    "df.drop_duplicates(inplace=True)\n",
    "\n",
    "# Identify yield columns (columns that contain \"yield\" in their name)\n",
    "yield_columns = [col for col in df.columns if \"yield\" in col]\n",
    "\n",
    "# Replace zero values in yield columns with NaN\n",
    "df[yield_columns] = df[yield_columns].replace(0, np.nan)\n",
    "\n",
    "# Save the cleaned dataset\n",
    "df.to_csv(\"Cleaned_Agri_Data.csv\", index=False)\n",
    "\n",
    "print(\"Cleaned CSV file saved as Cleaned_Agri_Data.csv\")\n"
   ]
  },
  {
   "cell_type": "code",
   "execution_count": 16,
   "metadata": {},
   "outputs": [
    {
     "data": {
      "text/plain": [
       "Index(['dist_code', 'year', 'state_code', 'state_name', 'dist_name',\n",
       "       'rice_area', 'rice_production', 'rice_yield', 'wheat_area',\n",
       "       'wheat_production', 'wheat_yield', 'kharif_sorghum_area',\n",
       "       'kharif_sorghum_production', 'kharif_sorghum_yield',\n",
       "       'rabi_sorghum_area', 'rabi_sorghum_production', 'rabi_sorghum_yield',\n",
       "       'sorghum_area', 'sorghum_production', 'sorghum_yield',\n",
       "       'pearl_millet_area', 'pearl_millet_production', 'pearl_millet_yield',\n",
       "       'maize_area', 'maize_production', 'maize_yield', 'finger_millet_area',\n",
       "       'finger_millet_production', 'finger_millet_yield', 'barley_area',\n",
       "       'barley_production', 'barley_yield', 'chickpea_area',\n",
       "       'chickpea_production', 'chickpea_yield', 'pigeonpea_area',\n",
       "       'pigeonpea_production', 'pigeonpea_yield', 'minor_pulses_area',\n",
       "       'minor_pulses_production', 'minor_pulses_yield', 'groundnut_area',\n",
       "       'groundnut_production', 'groundnut_yield', 'sesamum_area',\n",
       "       'sesamum_production', 'sesamum_yield', 'rapeseed_and_mustard_area',\n",
       "       'rapeseed_and_mustard_production', 'rapeseed_and_mustard_yield',\n",
       "       'safflower_area', 'safflower_production', 'safflower_yield',\n",
       "       'castor_area', 'castor_production', 'castor_yield', 'linseed_area',\n",
       "       'linseed_production', 'linseed_yield', 'sunflower_area',\n",
       "       'sunflower_production', 'sunflower_yield', 'soyabean_area',\n",
       "       'soyabean_production', 'soyabean_yield', 'oilseeds_area',\n",
       "       'oilseeds_production', 'oilseeds_yield', 'sugarcane_area',\n",
       "       'sugarcane_production', 'sugarcane_yield', 'cotton_area',\n",
       "       'cotton_production', 'cotton_yield'],\n",
       "      dtype='object')"
      ]
     },
     "execution_count": 16,
     "metadata": {},
     "output_type": "execute_result"
    }
   ],
   "source": [
    "# List of columns to drop (since they lack production and yield data)\n",
    "cols_to_drop = [\n",
    "    \"fruits_area\",\n",
    "    \"vegetables_area\",\n",
    "    \"fruits_and_vegetables_area\",\n",
    "    \"potatoes_area\",\n",
    "    \"onion_area\",\n",
    "    \"fodder_area\"\n",
    "]\n",
    "\n",
    "# Drop them from the DataFrame\n",
    "df = df.drop(columns=cols_to_drop, errors=\"ignore\") \n",
    "df.columns"
   ]
  },
  {
   "cell_type": "code",
   "execution_count": 17,
   "metadata": {},
   "outputs": [],
   "source": [
    "# Define the common columns that should be retained in every crop DataFrame\n",
    "common_columns = {\"dist_code\", \"year\", \"state_code\", \"state_name\", \"dist_name\"}\n",
    "\n",
    "# Identify unique crop names dynamically (remove common columns)\n",
    "crop_names = set(col.split(\"_crop_\")[0] for col in df.columns if \"_crop_\" in col)\n",
    "\n",
    "# Dictionary to store DataFrames for each crop\n",
    "crop_dfs = {}\n",
    "\n",
    "for crop in crop_names:\n",
    "    # Select common columns + the current crop's specific columns\n",
    "    crop_columns = list(common_columns) + [f\"{crop}_crop_area\", f\"{crop}_crop_production\", f\"{crop}_crop_yield\"]\n",
    "\n",
    "    # Ensure the required columns exist in the DataFrame before filtering\n",
    "    existing_columns = [col for col in crop_columns if col in df.columns]\n",
    "\n",
    "    # Create a new DataFrame for the current crop\n",
    "    crop_dfs[crop] = df[existing_columns].copy()\n",
    "\n",
    "# Now crop_dfs dictionary contains separate DataFrames for each crop\n",
    "\n",
    "for crop, crop_df in crop_dfs.items():\n",
    "    zero_mask = (crop_df[f\"{crop}_crop_area\"] == 0) & \\\n",
    "                (crop_df[f\"{crop}_crop_production\"] == 0) & \\\n",
    "                (crop_df[f\"{crop}_crop_yield\"] == 0)\n",
    "    \n",
    "    zero_count = zero_mask.sum()\n",
    "    \n",
    "    print(f\"Crop: {crop}, Zero Rows: {zero_count}\")"
   ]
  },
  {
   "cell_type": "code",
   "execution_count": 18,
   "metadata": {},
   "outputs": [],
   "source": [
    "# Save the cleaned dataset as a CSV file\n",
    "df.to_csv(\"Agri_explorermod.csv\", index=False)"
   ]
  },
  {
   "cell_type": "code",
   "execution_count": 19,
   "metadata": {},
   "outputs": [],
   "source": [
    "# Select columns related to rice and wheat\n",
    "rice_columns = [col for col in df.columns if \"rice\" in col]\n",
    "wheat_columns = [col for col in df.columns if \"wheat\" in col]\n",
    "\n",
    "# Create separate DataFrames for rice and wheat\n",
    "df_rice = df[[\"state_code\", \"state_name\", \"dist_code\", \"dist_name\", \"year\"] + rice_columns]\n",
    "df_wheat = df[[\"state_code\", \"state_name\", \"dist_code\", \"dist_name\", \"year\"] + wheat_columns]\n",
    "\n",
    "# Save them as separate CSV files\n",
    "df_rice.to_csv(\"Rice_data.csv\", index=False)\n",
    "df_wheat.to_csv(\"Wheat_data.csv\", index=False)\n",
    "\n"
   ]
  },
  {
   "cell_type": "code",
   "execution_count": 20,
   "metadata": {},
   "outputs": [],
   "source": [
    "# Drop rice and wheat columns\n",
    "df_other = df.drop(columns=rice_columns + wheat_columns)\n",
    "\n",
    "# Save the remaining data to a new CSV file\n",
    "df_other.to_csv(\"Other_Crops_data.csv\", index=False)\n",
    "\n"
   ]
  },
  {
   "cell_type": "code",
   "execution_count": 21,
   "metadata": {},
   "outputs": [],
   "source": [
    "# Extract Unique Values\n",
    "unique_districts = df[['dist_code', 'dist_name', 'state_code', 'state_name']].drop_duplicates()\n",
    "unique_states = df[['state_code', 'state_name']].drop_duplicates()\n",
    "unique_years = df[['year']].drop_duplicates()"
   ]
  },
  {
   "cell_type": "code",
   "execution_count": 22,
   "metadata": {},
   "outputs": [],
   "source": [
    "# Extract Unique States & Save\n",
    "df_states = df[['state_code', 'state_name']].drop_duplicates()\n",
    "df_states.to_csv(\"states.csv\", index=False)"
   ]
  },
  {
   "cell_type": "code",
   "execution_count": 23,
   "metadata": {},
   "outputs": [],
   "source": [
    "# Extract Unique Districts & Save\n",
    "df_districts = df[['dist_code', 'dist_name', 'state_code']].drop_duplicates()\n",
    "df_districts.to_csv(\"districts.csv\", index=False)"
   ]
  }
 ],
 "metadata": {
  "kernelspec": {
   "display_name": "Python 3",
   "language": "python",
   "name": "python3"
  },
  "language_info": {
   "codemirror_mode": {
    "name": "ipython",
    "version": 3
   },
   "file_extension": ".py",
   "mimetype": "text/x-python",
   "name": "python",
   "nbconvert_exporter": "python",
   "pygments_lexer": "ipython3",
   "version": "3.12.8"
  }
 },
 "nbformat": 4,
 "nbformat_minor": 2
}
